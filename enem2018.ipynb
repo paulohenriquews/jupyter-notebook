{
 "cells": [
  {
   "cell_type": "code",
   "execution_count": 60,
   "metadata": {
    "scrolled": true
   },
   "outputs": [
    {
     "name": "stdout",
     "output_type": "stream",
     "text": [
      " O volume na unidade C ‚ Windows\n",
      " O N£mero de S‚rie do Volume ‚ 2C2F-484C\n",
      "\n",
      " Pasta de C:\\Users\\Paulinho\\Anaconda3\\1BD\\ENEM_2018\n",
      "\n",
      "08/04/2020  23:19    <DIR>          .\n",
      "08/04/2020  23:19    <DIR>          ..\n",
      "08/04/2020  20:42    <DIR>          .ipynb_checkpoints\n",
      "08/04/2020  20:40    <DIR>          analise-dados-master\n",
      "08/04/2020  22:08    <DIR>          dicas-pandas-master\n",
      "03/05/2019  15:21     3.433.162.944 ENEM_2018.csv\n",
      "08/04/2020  23:19            77.308 ENEM_2018.ipynb\n",
      "08/04/2020  20:24       840.235.580 enem2018.csv\n",
      "08/04/2020  22:50           105.976 enem2018.ipynb\n",
      "08/04/2020  21:11       840.235.580 enem2018_2.csv\n",
      "08/04/2020  23:11     1.062.561.425 enem2018_3.csv\n",
      "               6 arquivo(s)  6.176.378.813 bytes\n",
      "               5 pasta(s)   101.604.683.776 bytes dispon¡veis\n"
     ]
    }
   ],
   "source": [
    "ls"
   ]
  },
  {
   "cell_type": "code",
   "execution_count": 61,
   "metadata": {},
   "outputs": [],
   "source": [
    "import pandas as pd\n",
    "import matplotlib as plt"
   ]
  },
  {
   "cell_type": "markdown",
   "metadata": {},
   "source": [
    "## # Importando o arquivo .csv\n",
    "Arquivo CSV já com as colunas removidas"
   ]
  },
  {
   "cell_type": "code",
   "execution_count": 65,
   "metadata": {},
   "outputs": [
    {
     "name": "stderr",
     "output_type": "stream",
     "text": [
      "C:\\Users\\Paulinho\\Anaconda3\\lib\\site-packages\\numpy\\lib\\arraysetops.py:569: FutureWarning: elementwise comparison failed; returning scalar instead, but in the future will perform elementwise comparison\n",
      "  mask |= (ar1 == a)\n"
     ]
    }
   ],
   "source": [
    "# IMPORTAR ARQUIVO .CSV\n",
    "enem2018 = pd.read_csv(\"enem2018_3.csv\", index_col=0)"
   ]
  },
  {
   "cell_type": "markdown",
   "metadata": {},
   "source": [
    "## # Exibindo algumas informações do arquivo .csv\n",
    "Cabeçalho (head), número de linhas (len), colunas (columns)"
   ]
  },
  {
   "cell_type": "code",
   "execution_count": 66,
   "metadata": {
    "scrolled": true
   },
   "outputs": [
    {
     "data": {
      "text/html": [
       "<div>\n",
       "<style scoped>\n",
       "    .dataframe tbody tr th:only-of-type {\n",
       "        vertical-align: middle;\n",
       "    }\n",
       "\n",
       "    .dataframe tbody tr th {\n",
       "        vertical-align: top;\n",
       "    }\n",
       "\n",
       "    .dataframe thead th {\n",
       "        text-align: right;\n",
       "    }\n",
       "</style>\n",
       "<table border=\"1\" class=\"dataframe\">\n",
       "  <thead>\n",
       "    <tr style=\"text-align: right;\">\n",
       "      <th></th>\n",
       "      <th>NU_INSCRICAO</th>\n",
       "      <th>NO_MUNICIPIO_RESIDENCIA</th>\n",
       "      <th>SG_UF_RESIDENCIA</th>\n",
       "      <th>NU_IDADE</th>\n",
       "      <th>TP_SEXO</th>\n",
       "      <th>TP_ESTADO_CIVIL</th>\n",
       "      <th>TP_COR_RACA</th>\n",
       "      <th>TP_NACIONALIDADE</th>\n",
       "      <th>NO_MUNICIPIO_NASCIMENTO</th>\n",
       "      <th>SG_UF_NASCIMENTO</th>\n",
       "      <th>...</th>\n",
       "      <th>IN_MOBILIARIO_ESPECIFICO</th>\n",
       "      <th>IN_MATERIAL_ESPECIFICO</th>\n",
       "      <th>IN_NOME_SOCIAL</th>\n",
       "      <th>NU_NOTA_CN</th>\n",
       "      <th>NU_NOTA_CH</th>\n",
       "      <th>NU_NOTA_LC</th>\n",
       "      <th>NU_NOTA_MT</th>\n",
       "      <th>NU_NOTA_REDACAO</th>\n",
       "      <th>Q001</th>\n",
       "      <th>Q002</th>\n",
       "    </tr>\n",
       "  </thead>\n",
       "  <tbody>\n",
       "    <tr>\n",
       "      <th>0</th>\n",
       "      <td>180008202043</td>\n",
       "      <td>Brasília</td>\n",
       "      <td>DF</td>\n",
       "      <td>44.0</td>\n",
       "      <td>M</td>\n",
       "      <td>1.0</td>\n",
       "      <td>1</td>\n",
       "      <td>0</td>\n",
       "      <td>NaN</td>\n",
       "      <td>NaN</td>\n",
       "      <td>...</td>\n",
       "      <td>0</td>\n",
       "      <td>0</td>\n",
       "      <td>0</td>\n",
       "      <td>NaN</td>\n",
       "      <td>NaN</td>\n",
       "      <td>NaN</td>\n",
       "      <td>NaN</td>\n",
       "      <td>NaN</td>\n",
       "      <td>A</td>\n",
       "      <td>A</td>\n",
       "    </tr>\n",
       "    <tr>\n",
       "      <th>1</th>\n",
       "      <td>180007197856</td>\n",
       "      <td>São João dos Patos</td>\n",
       "      <td>MA</td>\n",
       "      <td>23.0</td>\n",
       "      <td>F</td>\n",
       "      <td>0.0</td>\n",
       "      <td>3</td>\n",
       "      <td>1</td>\n",
       "      <td>São João dos Patos</td>\n",
       "      <td>MA</td>\n",
       "      <td>...</td>\n",
       "      <td>0</td>\n",
       "      <td>0</td>\n",
       "      <td>0</td>\n",
       "      <td>521.0</td>\n",
       "      <td>568.7</td>\n",
       "      <td>513.1</td>\n",
       "      <td>480.3</td>\n",
       "      <td>280.0</td>\n",
       "      <td>B</td>\n",
       "      <td>B</td>\n",
       "    </tr>\n",
       "    <tr>\n",
       "      <th>2</th>\n",
       "      <td>180008517434</td>\n",
       "      <td>Mogi das Cruzes</td>\n",
       "      <td>SP</td>\n",
       "      <td>23.0</td>\n",
       "      <td>F</td>\n",
       "      <td>0.0</td>\n",
       "      <td>1</td>\n",
       "      <td>1</td>\n",
       "      <td>Lages</td>\n",
       "      <td>SC</td>\n",
       "      <td>...</td>\n",
       "      <td>0</td>\n",
       "      <td>0</td>\n",
       "      <td>0</td>\n",
       "      <td>NaN</td>\n",
       "      <td>NaN</td>\n",
       "      <td>NaN</td>\n",
       "      <td>NaN</td>\n",
       "      <td>NaN</td>\n",
       "      <td>E</td>\n",
       "      <td>E</td>\n",
       "    </tr>\n",
       "    <tr>\n",
       "      <th>3</th>\n",
       "      <td>180007661228</td>\n",
       "      <td>Itapetinga</td>\n",
       "      <td>BA</td>\n",
       "      <td>26.0</td>\n",
       "      <td>F</td>\n",
       "      <td>0.0</td>\n",
       "      <td>3</td>\n",
       "      <td>2</td>\n",
       "      <td>NaN</td>\n",
       "      <td>NaN</td>\n",
       "      <td>...</td>\n",
       "      <td>0</td>\n",
       "      <td>0</td>\n",
       "      <td>0</td>\n",
       "      <td>NaN</td>\n",
       "      <td>NaN</td>\n",
       "      <td>NaN</td>\n",
       "      <td>NaN</td>\n",
       "      <td>NaN</td>\n",
       "      <td>B</td>\n",
       "      <td>C</td>\n",
       "    </tr>\n",
       "    <tr>\n",
       "      <th>4</th>\n",
       "      <td>180008787987</td>\n",
       "      <td>Jeremoabo</td>\n",
       "      <td>BA</td>\n",
       "      <td>20.0</td>\n",
       "      <td>M</td>\n",
       "      <td>0.0</td>\n",
       "      <td>0</td>\n",
       "      <td>1</td>\n",
       "      <td>Aracaju</td>\n",
       "      <td>SE</td>\n",
       "      <td>...</td>\n",
       "      <td>0</td>\n",
       "      <td>0</td>\n",
       "      <td>0</td>\n",
       "      <td>NaN</td>\n",
       "      <td>419.9</td>\n",
       "      <td>345.8</td>\n",
       "      <td>NaN</td>\n",
       "      <td>360.0</td>\n",
       "      <td>C</td>\n",
       "      <td>E</td>\n",
       "    </tr>\n",
       "  </tbody>\n",
       "</table>\n",
       "<p>5 rows × 67 columns</p>\n",
       "</div>"
      ],
      "text/plain": [
       "   NU_INSCRICAO NO_MUNICIPIO_RESIDENCIA SG_UF_RESIDENCIA  NU_IDADE TP_SEXO  \\\n",
       "0  180008202043                Brasília               DF      44.0       M   \n",
       "1  180007197856      São João dos Patos               MA      23.0       F   \n",
       "2  180008517434         Mogi das Cruzes               SP      23.0       F   \n",
       "3  180007661228              Itapetinga               BA      26.0       F   \n",
       "4  180008787987               Jeremoabo               BA      20.0       M   \n",
       "\n",
       "   TP_ESTADO_CIVIL  TP_COR_RACA  TP_NACIONALIDADE NO_MUNICIPIO_NASCIMENTO  \\\n",
       "0              1.0            1                 0                     NaN   \n",
       "1              0.0            3                 1      São João dos Patos   \n",
       "2              0.0            1                 1                   Lages   \n",
       "3              0.0            3                 2                     NaN   \n",
       "4              0.0            0                 1                 Aracaju   \n",
       "\n",
       "  SG_UF_NASCIMENTO  ...  IN_MOBILIARIO_ESPECIFICO  IN_MATERIAL_ESPECIFICO  \\\n",
       "0              NaN  ...                         0                       0   \n",
       "1               MA  ...                         0                       0   \n",
       "2               SC  ...                         0                       0   \n",
       "3              NaN  ...                         0                       0   \n",
       "4               SE  ...                         0                       0   \n",
       "\n",
       "   IN_NOME_SOCIAL  NU_NOTA_CN  NU_NOTA_CH  NU_NOTA_LC  NU_NOTA_MT  \\\n",
       "0               0         NaN         NaN         NaN         NaN   \n",
       "1               0       521.0       568.7       513.1       480.3   \n",
       "2               0         NaN         NaN         NaN         NaN   \n",
       "3               0         NaN         NaN         NaN         NaN   \n",
       "4               0         NaN       419.9       345.8         NaN   \n",
       "\n",
       "   NU_NOTA_REDACAO  Q001  Q002  \n",
       "0              NaN     A     A  \n",
       "1            280.0     B     B  \n",
       "2              NaN     E     E  \n",
       "3              NaN     B     C  \n",
       "4            360.0     C     E  \n",
       "\n",
       "[5 rows x 67 columns]"
      ]
     },
     "execution_count": 66,
     "metadata": {},
     "output_type": "execute_result"
    }
   ],
   "source": [
    "# EXIBIR AS 5 PRIMEIRAS LINHAS\n",
    "enem2018.head()"
   ]
  },
  {
   "cell_type": "code",
   "execution_count": 6,
   "metadata": {},
   "outputs": [
    {
     "data": {
      "text/plain": [
       "5513747"
      ]
     },
     "execution_count": 6,
     "metadata": {},
     "output_type": "execute_result"
    }
   ],
   "source": [
    "len(enem2018)"
   ]
  },
  {
   "cell_type": "code",
   "execution_count": 67,
   "metadata": {},
   "outputs": [
    {
     "data": {
      "text/plain": [
       "Index(['NU_INSCRICAO', 'NO_MUNICIPIO_RESIDENCIA', 'SG_UF_RESIDENCIA',\n",
       "       'NU_IDADE', 'TP_SEXO', 'TP_ESTADO_CIVIL', 'TP_COR_RACA',\n",
       "       'TP_NACIONALIDADE', 'NO_MUNICIPIO_NASCIMENTO', 'SG_UF_NASCIMENTO',\n",
       "       'IN_BAIXA_VISAO', 'IN_CEGUEIRA', 'IN_SURDEZ', 'IN_DEFICIENCIA_AUDITIVA',\n",
       "       'IN_SURDO_CEGUEIRA', 'IN_DEFICIENCIA_FISICA', 'IN_DEFICIENCIA_MENTAL',\n",
       "       'IN_DEFICIT_ATENCAO', 'IN_DISLEXIA', 'IN_DISCALCULIA', 'IN_AUTISMO',\n",
       "       'IN_VISAO_MONOCULAR', 'IN_OUTRA_DEF', 'IN_GESTANTE', 'IN_LACTANTE',\n",
       "       'IN_IDOSO', 'IN_ESTUDA_CLASSE_HOSPITALAR', 'IN_SEM_RECURSO',\n",
       "       'IN_BRAILLE', 'IN_AMPLIADA_24', 'IN_AMPLIADA_18', 'IN_LEDOR',\n",
       "       'IN_ACESSO', 'IN_TRANSCRICAO', 'IN_LIBRAS', 'IN_LEITURA_LABIAL',\n",
       "       'IN_MESA_CADEIRA_RODAS', 'IN_MESA_CADEIRA_SEPARADA', 'IN_APOIO_PERNA',\n",
       "       'IN_GUIA_INTERPRETE', 'IN_COMPUTADOR', 'IN_CADEIRA_ESPECIAL',\n",
       "       'IN_CADEIRA_CANHOTO', 'IN_CADEIRA_ACOLCHOADA', 'IN_PROVA_DEITADO',\n",
       "       'IN_MOBILIARIO_OBESO', 'IN_LAMINA_OVERLAY', 'IN_PROTETOR_AURICULAR',\n",
       "       'IN_MEDIDOR_GLICOSE', 'IN_MAQUINA_BRAILE', 'IN_SOROBAN',\n",
       "       'IN_MARCA_PASSO', 'IN_SONDA', 'IN_MEDICAMENTOS', 'IN_SALA_INDIVIDUAL',\n",
       "       'IN_SALA_ESPECIAL', 'IN_SALA_ACOMPANHANTE', 'IN_MOBILIARIO_ESPECIFICO',\n",
       "       'IN_MATERIAL_ESPECIFICO', 'IN_NOME_SOCIAL', 'NU_NOTA_CN', 'NU_NOTA_CH',\n",
       "       'NU_NOTA_LC', 'NU_NOTA_MT', 'NU_NOTA_REDACAO', 'Q001', 'Q002'],\n",
       "      dtype='object')"
      ]
     },
     "execution_count": 67,
     "metadata": {},
     "output_type": "execute_result"
    }
   ],
   "source": [
    "enem2018.columns"
   ]
  },
  {
   "cell_type": "code",
   "execution_count": 68,
   "metadata": {},
   "outputs": [
    {
     "data": {
      "text/plain": [
       "<bound method DataFrame.info of          NU_INSCRICAO NO_MUNICIPIO_RESIDENCIA SG_UF_RESIDENCIA  NU_IDADE  \\\n",
       "0        180008202043                Brasília               DF      44.0   \n",
       "1        180007197856      São João dos Patos               MA      23.0   \n",
       "2        180008517434         Mogi das Cruzes               SP      23.0   \n",
       "3        180007661228              Itapetinga               BA      26.0   \n",
       "4        180008787987               Jeremoabo               BA      20.0   \n",
       "5        180007239581             João Pessoa               PB      23.0   \n",
       "6        180007198225                Virgínia               MG      35.0   \n",
       "7        180008090447                Parnaíba               PI      39.0   \n",
       "8        180008257068               Fortaleza               CE      19.0   \n",
       "9        180008202044                  Cuiabá               MT      25.0   \n",
       "10       180008411102                Extremoz               RN      38.0   \n",
       "11       180007286705        Monsenhor Tabosa               CE      17.0   \n",
       "12       180008948206                  Gurupi               TO      18.0   \n",
       "13       180008787988               São Paulo               SP      23.0   \n",
       "14       180008417244         Várzea da Palma               MG      19.0   \n",
       "15       180008411473             Carapicuíba               SP      21.0   \n",
       "16       180007766857                 Camocim               CE      18.0   \n",
       "17       180009379462                  Itaúna               MG      21.0   \n",
       "18       180008257069                Brasília               DF      20.0   \n",
       "19       180008202045               São Paulo               SP      27.0   \n",
       "20       180008411103                   Natal               RN      37.0   \n",
       "21       180007286706                Brasília               DF      35.0   \n",
       "22       180008196151          Belo Horizonte               MG      29.0   \n",
       "23       180008787989               Barreiras               BA      19.0   \n",
       "24       180008309625                Teresina               PI      19.0   \n",
       "25       180007766858            Cachoeirinha               RS      30.0   \n",
       "26       180008895630              Lagoa Seca               PB      18.0   \n",
       "27       180008257070   São Bernardo do Campo               SP      19.0   \n",
       "28       180008202046          Getúlio Vargas               RS      24.0   \n",
       "29       180008411104                Teresina               PI      54.0   \n",
       "...               ...                     ...              ...       ...   \n",
       "5513717  180013906869        Laranjal do Jari               AP      17.0   \n",
       "5513718  180013952469         Duque de Caxias               RJ      19.0   \n",
       "5513719  180013948435              Rio Branco               AC      36.0   \n",
       "5513720  180013988435            Serranópolis               GO      43.0   \n",
       "5513721  180013946704                Anápolis               GO      19.0   \n",
       "5513722  180013950826                 Goiânia               GO      56.0   \n",
       "5513723  180013945034               Alagoinha               PB      32.0   \n",
       "5513724  180013945036               São Paulo               SP      18.0   \n",
       "5513725  180013945035                  Manaus               AM      19.0   \n",
       "5513726  180013964146                    Mauá               SP      17.0   \n",
       "5513727  180013951199             Ilha Grande               PI      18.0   \n",
       "5513728  180013948436   São Francisco do Pará               PA      17.0   \n",
       "5513729  180013984169  Luís Eduardo Magalhães               BA      19.0   \n",
       "5513730  180013945648            Belford Roxo               RJ      18.0   \n",
       "5513731  180013934134                 Estação               RS      29.0   \n",
       "5513732  180013946705              Cosmópolis               SP      24.0   \n",
       "5513733  180013948437                   Sinop               MT      18.0   \n",
       "5513734  180013950827                Bertioga               SP      55.0   \n",
       "5513735  180013970136                Peritoró               MA      17.0   \n",
       "5513736  180013955758                  Manaus               AM      18.0   \n",
       "5513737  180013980225             Farroupilha               RS      17.0   \n",
       "5513738  180013934136      Peixoto de Azevedo               MT      20.0   \n",
       "5513739  180013948438               São Paulo               SP      32.0   \n",
       "5513740  180013976526                Serrinha               BA      20.0   \n",
       "5513741  180013973108               Nilópolis               RJ      32.0   \n",
       "5513742  180013945649          Rio de Janeiro               RJ      56.0   \n",
       "5513743  180013964149                  Manaus               AM      20.0   \n",
       "5513744  180013980226               São Paulo               SP      17.0   \n",
       "5513745  180013934137                Campinas               SP      17.0   \n",
       "5513746  180013962906    Governador Valadares               MG      21.0   \n",
       "\n",
       "        TP_SEXO  TP_ESTADO_CIVIL  TP_COR_RACA  TP_NACIONALIDADE  \\\n",
       "0             M              1.0            1                 0   \n",
       "1             F              0.0            3                 1   \n",
       "2             F              0.0            1                 1   \n",
       "3             F              0.0            3                 2   \n",
       "4             M              0.0            0                 1   \n",
       "5             F              0.0            1                 1   \n",
       "6             F              0.0            1                 1   \n",
       "7             M              1.0            3                 1   \n",
       "8             M              0.0            3                 1   \n",
       "9             F              0.0            3                 1   \n",
       "10            F              0.0            1                 1   \n",
       "11            F              0.0            3                 1   \n",
       "12            F              0.0            2                 1   \n",
       "13            M              0.0            3                 1   \n",
       "14            M              0.0            1                 1   \n",
       "15            F              0.0            3                 1   \n",
       "16            M              0.0            3                 1   \n",
       "17            F              0.0            1                 1   \n",
       "18            M              0.0            1                 1   \n",
       "19            F              0.0            3                 1   \n",
       "20            F              0.0            1                 1   \n",
       "21            M              0.0            3                 1   \n",
       "22            M              0.0            3                 1   \n",
       "23            F              0.0            3                 1   \n",
       "24            M              0.0            3                 1   \n",
       "25            F              0.0            1                 1   \n",
       "26            F              0.0            1                 1   \n",
       "27            F              0.0            5                 1   \n",
       "28            F              0.0            1                 1   \n",
       "29            F              1.0            3                 1   \n",
       "...         ...              ...          ...               ...   \n",
       "5513717       F              0.0            3                 1   \n",
       "5513718       F              0.0            3                 1   \n",
       "5513719       M              1.0            3                 1   \n",
       "5513720       F              1.0            0                 1   \n",
       "5513721       M              0.0            4                 1   \n",
       "5513722       F              0.0            1                 1   \n",
       "5513723       F              1.0            3                 1   \n",
       "5513724       M              0.0            1                 1   \n",
       "5513725       F              NaN            3                 1   \n",
       "5513726       F              0.0            1                 2   \n",
       "5513727       M              0.0            1                 1   \n",
       "5513728       M              0.0            3                 1   \n",
       "5513729       F              0.0            3                 1   \n",
       "5513730       M              0.0            3                 1   \n",
       "5513731       M              0.0            2                 3   \n",
       "5513732       M              0.0            2                 1   \n",
       "5513733       F              0.0            3                 1   \n",
       "5513734       F              1.0            4                 1   \n",
       "5513735       F              0.0            1                 1   \n",
       "5513736       M              0.0            3                 1   \n",
       "5513737       M              0.0            1                 2   \n",
       "5513738       M              0.0            3                 1   \n",
       "5513739       M              0.0            3                 1   \n",
       "5513740       M              0.0            1                 1   \n",
       "5513741       F              1.0            2                 1   \n",
       "5513742       F              1.0            1                 1   \n",
       "5513743       F              0.0            3                 1   \n",
       "5513744       F              0.0            3                 1   \n",
       "5513745       F              0.0            1                 1   \n",
       "5513746       M              0.0            3                 1   \n",
       "\n",
       "        NO_MUNICIPIO_NASCIMENTO SG_UF_NASCIMENTO  ...  \\\n",
       "0                           NaN              NaN  ...   \n",
       "1            São João dos Patos               MA  ...   \n",
       "2                         Lages               SC  ...   \n",
       "3                           NaN              NaN  ...   \n",
       "4                       Aracaju               SE  ...   \n",
       "5                   João Pessoa               PB  ...   \n",
       "6                     Itanhandu               MG  ...   \n",
       "7                  Luís Correia               PI  ...   \n",
       "8                     Fortaleza               CE  ...   \n",
       "9                     Barreiras               BA  ...   \n",
       "10                        Natal               RN  ...   \n",
       "11                     Tamboril               CE  ...   \n",
       "12                       Gurupi               TO  ...   \n",
       "13                    São Paulo               SP  ...   \n",
       "14              Várzea da Palma               MG  ...   \n",
       "15                  Carapicuíba               SP  ...   \n",
       "16                      Camocim               CE  ...   \n",
       "17                       Itaúna               MG  ...   \n",
       "18                     Brasília               DF  ...   \n",
       "19                    São Paulo               SP  ...   \n",
       "20                        Natal               RN  ...   \n",
       "21                     Brasília               DF  ...   \n",
       "22               Belo Horizonte               MG  ...   \n",
       "23                    Barreiras               BA  ...   \n",
       "24                     Teresina               PI  ...   \n",
       "25                 Porto Alegre               RS  ...   \n",
       "26                   Lagoa Seca               PB  ...   \n",
       "27                      Diadema               SP  ...   \n",
       "28               Getúlio Vargas               RS  ...   \n",
       "29                     Teresina               PI  ...   \n",
       "...                         ...              ...  ...   \n",
       "5513717        Laranjal do Jari               AP  ...   \n",
       "5513718         Duque de Caxias               RJ  ...   \n",
       "5513719              Rio Branco               AC  ...   \n",
       "5513720            Serranópolis               GO  ...   \n",
       "5513721                   Goiás               GO  ...   \n",
       "5513722                 Goiânia               GO  ...   \n",
       "5513723           Alagoa Grande               PB  ...   \n",
       "5513724                 Caruaru               PE  ...   \n",
       "5513725                  Manaus               AM  ...   \n",
       "5513726                     NaN              NaN  ...   \n",
       "5513727               São Paulo               SP  ...   \n",
       "5513728               Castanhal               PA  ...   \n",
       "5513729               Barreiras               BA  ...   \n",
       "5513730            Belford Roxo               RJ  ...   \n",
       "5513731                     NaN              NaN  ...   \n",
       "5513732                Salvador               BA  ...   \n",
       "5513733                   Juara               MT  ...   \n",
       "5513734               Itabaiana               SE  ...   \n",
       "5513735                 Coroatá               MA  ...   \n",
       "5513736                  Manaus               AM  ...   \n",
       "5513737                     NaN              NaN  ...   \n",
       "5513738      Peixoto de Azevedo               MT  ...   \n",
       "5513739           Foz do Iguaçu               PR  ...   \n",
       "5513740                Serrinha               BA  ...   \n",
       "5513741          Rio de Janeiro               RJ  ...   \n",
       "5513742          Rio de Janeiro               RJ  ...   \n",
       "5513743               Parintins               AM  ...   \n",
       "5513744                    Mauá               SP  ...   \n",
       "5513745                Campinas               SP  ...   \n",
       "5513746                Pescador               MG  ...   \n",
       "\n",
       "         IN_MOBILIARIO_ESPECIFICO  IN_MATERIAL_ESPECIFICO  IN_NOME_SOCIAL  \\\n",
       "0                               0                       0               0   \n",
       "1                               0                       0               0   \n",
       "2                               0                       0               0   \n",
       "3                               0                       0               0   \n",
       "4                               0                       0               0   \n",
       "5                               0                       0               0   \n",
       "6                               0                       0               0   \n",
       "7                               0                       0               0   \n",
       "8                               0                       0               0   \n",
       "9                               0                       0               0   \n",
       "10                              0                       0               0   \n",
       "11                              0                       0               0   \n",
       "12                              0                       0               0   \n",
       "13                              0                       0               0   \n",
       "14                              0                       0               0   \n",
       "15                              0                       0               0   \n",
       "16                              0                       0               0   \n",
       "17                              0                       0               0   \n",
       "18                              0                       0               0   \n",
       "19                              0                       0               0   \n",
       "20                              0                       0               0   \n",
       "21                              0                       0               0   \n",
       "22                              0                       0               0   \n",
       "23                              0                       0               0   \n",
       "24                              0                       0               0   \n",
       "25                              0                       0               0   \n",
       "26                              0                       0               0   \n",
       "27                              0                       0               0   \n",
       "28                              0                       0               0   \n",
       "29                              0                       0               0   \n",
       "...                           ...                     ...             ...   \n",
       "5513717                         0                       0               0   \n",
       "5513718                         0                       0               0   \n",
       "5513719                         0                       0               0   \n",
       "5513720                         0                       0               0   \n",
       "5513721                         0                       0               0   \n",
       "5513722                         0                       0               0   \n",
       "5513723                         0                       0               0   \n",
       "5513724                         0                       0               0   \n",
       "5513725                         0                       0               0   \n",
       "5513726                         0                       0               0   \n",
       "5513727                         0                       0               0   \n",
       "5513728                         0                       0               0   \n",
       "5513729                         0                       0               0   \n",
       "5513730                         0                       0               0   \n",
       "5513731                         0                       0               0   \n",
       "5513732                         0                       0               0   \n",
       "5513733                         0                       0               0   \n",
       "5513734                         0                       0               0   \n",
       "5513735                         0                       0               0   \n",
       "5513736                         0                       0               0   \n",
       "5513737                         0                       0               0   \n",
       "5513738                         0                       0               0   \n",
       "5513739                         0                       0               0   \n",
       "5513740                         0                       0               0   \n",
       "5513741                         0                       0               0   \n",
       "5513742                         0                       0               0   \n",
       "5513743                         0                       0               0   \n",
       "5513744                         0                       0               0   \n",
       "5513745                         0                       0               0   \n",
       "5513746                         0                       0               0   \n",
       "\n",
       "         NU_NOTA_CN  NU_NOTA_CH  NU_NOTA_LC  NU_NOTA_MT  NU_NOTA_REDACAO  \\\n",
       "0               NaN         NaN         NaN         NaN              NaN   \n",
       "1             521.0       568.7       513.1       480.3            280.0   \n",
       "2               NaN         NaN         NaN         NaN              NaN   \n",
       "3               NaN         NaN         NaN         NaN              NaN   \n",
       "4               NaN       419.9       345.8         NaN            360.0   \n",
       "5             461.8       564.0       466.8       538.8            580.0   \n",
       "6               NaN         NaN         NaN         NaN              NaN   \n",
       "7             499.3       663.2       605.2       733.8            680.0   \n",
       "8             411.8       429.8       445.2       459.0            340.0   \n",
       "9             469.4       650.2       606.6       525.4            740.0   \n",
       "10              NaN         NaN         NaN         NaN              NaN   \n",
       "11              NaN       618.7       588.2         NaN            640.0   \n",
       "12            467.4       640.5       516.7       642.3            640.0   \n",
       "13            625.5       652.2       616.3       622.0            840.0   \n",
       "14              NaN         NaN         NaN         NaN              NaN   \n",
       "15              NaN         NaN         NaN         NaN              NaN   \n",
       "16            478.5       513.3       564.7       514.9            580.0   \n",
       "17            521.8       598.9       584.6       530.4            580.0   \n",
       "18            397.7       612.0       455.0       503.3            360.0   \n",
       "19            501.5       540.6       531.5       595.3            380.0   \n",
       "20            453.6       678.9       598.1       391.4            660.0   \n",
       "21              NaN         NaN         NaN         NaN              NaN   \n",
       "22            527.4       641.9       612.3       479.9            560.0   \n",
       "23              NaN         NaN         NaN         NaN              NaN   \n",
       "24            397.5       608.3       560.5       502.1            340.0   \n",
       "25              NaN         NaN         NaN         NaN              NaN   \n",
       "26            479.4       539.0       553.8       517.3            620.0   \n",
       "27            510.7       562.4       505.0       524.0            560.0   \n",
       "28            514.7       576.6       512.2       500.7            540.0   \n",
       "29            429.8       586.7       450.3       473.3            300.0   \n",
       "...             ...         ...         ...         ...              ...   \n",
       "5513717       373.0       488.4       525.1       446.9            400.0   \n",
       "5513718       396.1       488.8       432.7       372.3            400.0   \n",
       "5513719       464.5       537.8       439.8       452.5            560.0   \n",
       "5513720         NaN         NaN         NaN         NaN              NaN   \n",
       "5513721       507.4       515.7       584.3       533.6            340.0   \n",
       "5513722         NaN         NaN         NaN         NaN              NaN   \n",
       "5513723         NaN         NaN         NaN         NaN              NaN   \n",
       "5513724       369.9       450.5       378.9       517.2              0.0   \n",
       "5513725       385.1       428.7       422.4       523.6            480.0   \n",
       "5513726         NaN         NaN         NaN         NaN              NaN   \n",
       "5513727         NaN         NaN         NaN         NaN              NaN   \n",
       "5513728       452.7       503.9       560.0       371.8            320.0   \n",
       "5513729         NaN         NaN         NaN         NaN              NaN   \n",
       "5513730       411.3       510.7       426.4       429.9            240.0   \n",
       "5513731         NaN         NaN         NaN         NaN              NaN   \n",
       "5513732         NaN         NaN         NaN         NaN              NaN   \n",
       "5513733         NaN         NaN         NaN         NaN              NaN   \n",
       "5513734         NaN         NaN         NaN         NaN              NaN   \n",
       "5513735       431.3       476.6       395.6       538.8            340.0   \n",
       "5513736       497.5       604.4       481.8       414.9            320.0   \n",
       "5513737         NaN         NaN         NaN         NaN              NaN   \n",
       "5513738         NaN         NaN         NaN         NaN              NaN   \n",
       "5513739         NaN         NaN         NaN         NaN              NaN   \n",
       "5513740         NaN         NaN         NaN         NaN              NaN   \n",
       "5513741         NaN       574.9       548.6         NaN            460.0   \n",
       "5513742         NaN         NaN         NaN         NaN              NaN   \n",
       "5513743       435.6       556.8       460.8       528.1            320.0   \n",
       "5513744         NaN         NaN         NaN         NaN              NaN   \n",
       "5513745       524.9       496.5       512.5       474.1            340.0   \n",
       "5513746       442.7       549.4       445.9       498.7            520.0   \n",
       "\n",
       "         Q001  Q002  \n",
       "0           A     A  \n",
       "1           B     B  \n",
       "2           E     E  \n",
       "3           B     C  \n",
       "4           C     E  \n",
       "5           C     D  \n",
       "6           B     B  \n",
       "7           A     E  \n",
       "8           D     D  \n",
       "9           C     C  \n",
       "10          E     E  \n",
       "11          D     E  \n",
       "12          E     E  \n",
       "13          E     E  \n",
       "14          B     B  \n",
       "15          D     E  \n",
       "16          C     C  \n",
       "17          C     C  \n",
       "18          E     E  \n",
       "19          E     C  \n",
       "20          D     A  \n",
       "21          B     E  \n",
       "22          E     E  \n",
       "23          E     E  \n",
       "24          E     F  \n",
       "25          B     B  \n",
       "26          H     E  \n",
       "27          C     D  \n",
       "28          C     D  \n",
       "29          B     A  \n",
       "...       ...   ...  \n",
       "5513717     H     E  \n",
       "5513718     A     A  \n",
       "5513719     C     E  \n",
       "5513720     G     A  \n",
       "5513721     A     B  \n",
       "5513722     B     C  \n",
       "5513723     B     C  \n",
       "5513724     H     B  \n",
       "5513725     E     C  \n",
       "5513726     F     D  \n",
       "5513727     E     F  \n",
       "5513728     E     F  \n",
       "5513729     A     C  \n",
       "5513730     D     E  \n",
       "5513731     B     B  \n",
       "5513732     H     H  \n",
       "5513733     B     E  \n",
       "5513734     B     C  \n",
       "5513735     F     F  \n",
       "5513736     E     E  \n",
       "5513737     B     B  \n",
       "5513738     B     E  \n",
       "5513739     D     C  \n",
       "5513740     E     E  \n",
       "5513741     C     E  \n",
       "5513742     C     C  \n",
       "5513743     H     H  \n",
       "5513744     F     B  \n",
       "5513745     C     E  \n",
       "5513746     D     A  \n",
       "\n",
       "[5513747 rows x 67 columns]>"
      ]
     },
     "execution_count": 68,
     "metadata": {},
     "output_type": "execute_result"
    }
   ],
   "source": [
    "enem2018.info"
   ]
  },
  {
   "cell_type": "markdown",
   "metadata": {},
   "source": [
    "## # Extraindo algumas informações dos dados\n",
    "Participantes por: Sexo, Município, Estado, Idade"
   ]
  },
  {
   "cell_type": "code",
   "execution_count": 42,
   "metadata": {},
   "outputs": [
    {
     "data": {
      "text/plain": [
       "F    3257703\n",
       "M    2256044\n",
       "Name: TP_SEXO, dtype: int64"
      ]
     },
     "execution_count": 42,
     "metadata": {},
     "output_type": "execute_result"
    }
   ],
   "source": [
    "# EXIBIR QUANTOS PARTICIPANTES POR SEXO\n",
    "enem2018.TP_SEXO.value_counts()"
   ]
  },
  {
   "cell_type": "code",
   "execution_count": 54,
   "metadata": {},
   "outputs": [
    {
     "data": {
      "text/plain": [
       "<matplotlib.axes._subplots.AxesSubplot at 0x22c639f02e8>"
      ]
     },
     "execution_count": 54,
     "metadata": {},
     "output_type": "execute_result"
    },
    {
     "data": {
      "image/png": "[encoded data removed]",
      "text/plain": [
       "<Figure size 432x288 with 1 Axes>"
      ]
     },
     "metadata": {
      "needs_background": "light"
     },
     "output_type": "display_data"
    }
   ],
   "source": [
    "# EXIBIR GRÁFICO EM COLUNA DE PARTICIPANTES POR SEXO\n",
    "enem2018.TP_SEXO.value_counts().plot.barh()"
   ]
  },
  {
   "cell_type": "code",
   "execution_count": 53,
   "metadata": {},
   "outputs": [
    {
     "data": {
      "text/plain": [
       "<matplotlib.axes._subplots.AxesSubplot at 0x22cc4246a58>"
      ]
     },
     "execution_count": 53,
     "metadata": {},
     "output_type": "execute_result"
    },
    {
     "data": {
      "image/png": "[encoded data removed]",
      "text/plain": [
       "<Figure size 432x288 with 1 Axes>"
      ]
     },
     "metadata": {},
     "output_type": "display_data"
    }
   ],
   "source": [
    "# EXIBIR GRÁFICO EM PIZZA DE PARTICIPANTES POR SEXO\n",
    "enem2018.TP_SEXO.value_counts().plot.pie()"
   ]
  },
  {
   "cell_type": "code",
   "execution_count": 17,
   "metadata": {},
   "outputs": [
    {
     "data": {
      "text/plain": [
       "São Paulo                   264696\n",
       "Rio de Janeiro              154108\n",
       "Fortaleza                   109617\n",
       "Brasília                    104531\n",
       "Salvador                     93852\n",
       "Manaus                       90204\n",
       "Belo Horizonte               89233\n",
       "Belém                        79500\n",
       "São Luís                     69696\n",
       "Recife                       62285\n",
       "Goiânia                      53797\n",
       "Curitiba                     51145\n",
       "Teresina                     46770\n",
       "João Pessoa                  40036\n",
       "Natal                        36020\n",
       "Maceió                       35178\n",
       "Porto Alegre                 33067\n",
       "Campo Grande                 30575\n",
       "Guarulhos                    29588\n",
       "Cuiabá                       27269\n",
       "Macapá                       27217\n",
       "Ananindeua                   26862\n",
       "Porto Velho                  26305\n",
       "Aracaju                      26089\n",
       "Rio Branco                   24697\n",
       "Feira de Santana             23579\n",
       "São Gonçalo                  23507\n",
       "Jaboatão dos Guararapes      23501\n",
       "Campinas                     23479\n",
       "Uberlândia                   22381\n",
       "                             ...  \n",
       "Santa Salete                    20\n",
       "Vespasiano Corrêa               20\n",
       "Bozano                          20\n",
       "Nicolau Vergueiro               19\n",
       "Flor do Sertão                  19\n",
       "Pracinha                        19\n",
       "Lagoa dos Três Cantos           19\n",
       "Borá                            19\n",
       "União da Serra                  18\n",
       "Alto Feliz                      18\n",
       "Miguel Leão                     18\n",
       "Monte Alegre dos Campos         17\n",
       "Macieira                        17\n",
       "Coqueiro Baixo                  17\n",
       "Coronel Pilar                   17\n",
       "Água Comprida                   17\n",
       "Lajeado Grande                  17\n",
       "Pouso Novo                      17\n",
       "Santa Tereza                    16\n",
       "Santa Clara d'Oeste             16\n",
       "Quixabá                         16\n",
       "Monte Santo do Tocantins        16\n",
       "Nova Castilho                   15\n",
       "Serra da Saudade                14\n",
       "Chapada de Areia                12\n",
       "Forquetinha                     12\n",
       "Linha Nova                      10\n",
       "Canudos do Vale                 10\n",
       "Uiramutã                         9\n",
       "Sério                            5\n",
       "Name: NO_MUNICIPIO_RESIDENCIA, Length: 5299, dtype: int64"
      ]
     },
     "execution_count": 17,
     "metadata": {},
     "output_type": "execute_result"
    }
   ],
   "source": [
    "# EXIBIR QUANTOS PARTICIPANTES POR MUNICÍPIO\n",
    "enem2018.NO_MUNICIPIO_RESIDENCIA.value_counts()"
   ]
  },
  {
   "cell_type": "code",
   "execution_count": 18,
   "metadata": {},
   "outputs": [
    {
     "data": {
      "text/plain": [
       "5513747"
      ]
     },
     "execution_count": 18,
     "metadata": {},
     "output_type": "execute_result"
    }
   ],
   "source": [
    "len(enem2018['NO_MUNICIPIO_RESIDENCIA'])"
   ]
  },
  {
   "cell_type": "code",
   "execution_count": 20,
   "metadata": {},
   "outputs": [],
   "source": [
    "# CRIAR DATAFRAME COM PARTICIPANTES POR MUNICÍPIO\n",
    "participantes_por_municipio = enem2018['NO_MUNICIPIO_RESIDENCIA']"
   ]
  },
  {
   "cell_type": "code",
   "execution_count": 21,
   "metadata": {},
   "outputs": [
    {
     "data": {
      "text/plain": [
       "0                        Brasília\n",
       "1              São João dos Patos\n",
       "2                 Mogi das Cruzes\n",
       "3                      Itapetinga\n",
       "4                       Jeremoabo\n",
       "5                     João Pessoa\n",
       "6                        Virgínia\n",
       "7                        Parnaíba\n",
       "8                       Fortaleza\n",
       "9                          Cuiabá\n",
       "10                       Extremoz\n",
       "11               Monsenhor Tabosa\n",
       "12                         Gurupi\n",
       "13                      São Paulo\n",
       "14                Várzea da Palma\n",
       "15                    Carapicuíba\n",
       "16                        Camocim\n",
       "17                         Itaúna\n",
       "18                       Brasília\n",
       "19                      São Paulo\n",
       "20                          Natal\n",
       "21                       Brasília\n",
       "22                 Belo Horizonte\n",
       "23                      Barreiras\n",
       "24                       Teresina\n",
       "25                   Cachoeirinha\n",
       "26                     Lagoa Seca\n",
       "27          São Bernardo do Campo\n",
       "28                 Getúlio Vargas\n",
       "29                       Teresina\n",
       "                    ...          \n",
       "5513717          Laranjal do Jari\n",
       "5513718           Duque de Caxias\n",
       "5513719                Rio Branco\n",
       "5513720              Serranópolis\n",
       "5513721                  Anápolis\n",
       "5513722                   Goiânia\n",
       "5513723                 Alagoinha\n",
       "5513724                 São Paulo\n",
       "5513725                    Manaus\n",
       "5513726                      Mauá\n",
       "5513727               Ilha Grande\n",
       "5513728     São Francisco do Pará\n",
       "5513729    Luís Eduardo Magalhães\n",
       "5513730              Belford Roxo\n",
       "5513731                   Estação\n",
       "5513732                Cosmópolis\n",
       "5513733                     Sinop\n",
       "5513734                  Bertioga\n",
       "5513735                  Peritoró\n",
       "5513736                    Manaus\n",
       "5513737               Farroupilha\n",
       "5513738        Peixoto de Azevedo\n",
       "5513739                 São Paulo\n",
       "5513740                  Serrinha\n",
       "5513741                 Nilópolis\n",
       "5513742            Rio de Janeiro\n",
       "5513743                    Manaus\n",
       "5513744                 São Paulo\n",
       "5513745                  Campinas\n",
       "5513746      Governador Valadares\n",
       "Name: NO_MUNICIPIO_RESIDENCIA, Length: 5513747, dtype: object"
      ]
     },
     "execution_count": 21,
     "metadata": {},
     "output_type": "execute_result"
    }
   ],
   "source": [
    "# EXIBIR LISTA DE MUNICÍPIOS DO DATAFRAME\n",
    "participantes_por_municipio"
   ]
  },
  {
   "cell_type": "code",
   "execution_count": 23,
   "metadata": {},
   "outputs": [
    {
     "data": {
      "text/plain": [
       "São Paulo                   264696\n",
       "Rio de Janeiro              154108\n",
       "Fortaleza                   109617\n",
       "Brasília                    104531\n",
       "Salvador                     93852\n",
       "Manaus                       90204\n",
       "Belo Horizonte               89233\n",
       "Belém                        79500\n",
       "São Luís                     69696\n",
       "Recife                       62285\n",
       "Goiânia                      53797\n",
       "Curitiba                     51145\n",
       "Teresina                     46770\n",
       "João Pessoa                  40036\n",
       "Natal                        36020\n",
       "Maceió                       35178\n",
       "Porto Alegre                 33067\n",
       "Campo Grande                 30575\n",
       "Guarulhos                    29588\n",
       "Cuiabá                       27269\n",
       "Macapá                       27217\n",
       "Ananindeua                   26862\n",
       "Porto Velho                  26305\n",
       "Aracaju                      26089\n",
       "Rio Branco                   24697\n",
       "Feira de Santana             23579\n",
       "São Gonçalo                  23507\n",
       "Jaboatão dos Guararapes      23501\n",
       "Campinas                     23479\n",
       "Uberlândia                   22381\n",
       "                             ...  \n",
       "Santa Salete                    20\n",
       "Vespasiano Corrêa               20\n",
       "Bozano                          20\n",
       "Nicolau Vergueiro               19\n",
       "Flor do Sertão                  19\n",
       "Pracinha                        19\n",
       "Lagoa dos Três Cantos           19\n",
       "Borá                            19\n",
       "União da Serra                  18\n",
       "Alto Feliz                      18\n",
       "Miguel Leão                     18\n",
       "Monte Alegre dos Campos         17\n",
       "Macieira                        17\n",
       "Coqueiro Baixo                  17\n",
       "Coronel Pilar                   17\n",
       "Água Comprida                   17\n",
       "Lajeado Grande                  17\n",
       "Pouso Novo                      17\n",
       "Santa Tereza                    16\n",
       "Santa Clara d'Oeste             16\n",
       "Quixabá                         16\n",
       "Monte Santo do Tocantins        16\n",
       "Nova Castilho                   15\n",
       "Serra da Saudade                14\n",
       "Chapada de Areia                12\n",
       "Forquetinha                     12\n",
       "Linha Nova                      10\n",
       "Canudos do Vale                 10\n",
       "Uiramutã                         9\n",
       "Sério                            5\n",
       "Name: NO_MUNICIPIO_RESIDENCIA, Length: 5299, dtype: int64"
      ]
     },
     "execution_count": 23,
     "metadata": {},
     "output_type": "execute_result"
    }
   ],
   "source": [
    "# EXIBIR QUANTOS PARTICIPANTES POR MUNICÍPIO\n",
    "participantes_por_municipio.value_counts()"
   ]
  },
  {
   "cell_type": "code",
   "execution_count": 24,
   "metadata": {},
   "outputs": [],
   "source": [
    "# CRIAR DATAFRAME COM PARTICIPANTES POR MUNICÍPIO\n",
    "participantes_por_idade = enem2018['NU_IDADE']"
   ]
  },
  {
   "cell_type": "code",
   "execution_count": 25,
   "metadata": {},
   "outputs": [
    {
     "data": {
      "text/plain": [
       "10.0         6\n",
       "11.0        11\n",
       "12.0        40\n",
       "13.0       272\n",
       "14.0      5625\n",
       "15.0     75928\n",
       "16.0    308476\n",
       "17.0    878293\n",
       "18.0    928792\n",
       "19.0    617458\n",
       "20.0    424793\n",
       "21.0    325778\n",
       "22.0    254332\n",
       "23.0    208830\n",
       "24.0    171932\n",
       "25.0    143814\n",
       "26.0    119173\n",
       "27.0    103828\n",
       "28.0     89205\n",
       "29.0     83240\n",
       "30.0     74938\n",
       "31.0     66274\n",
       "32.0     60498\n",
       "33.0     55397\n",
       "34.0     50380\n",
       "35.0     47354\n",
       "36.0     45451\n",
       "37.0     41662\n",
       "38.0     36375\n",
       "39.0     33589\n",
       "         ...  \n",
       "62.0      1379\n",
       "63.0      1149\n",
       "64.0       957\n",
       "65.0       743\n",
       "66.0       597\n",
       "67.0       477\n",
       "68.0       385\n",
       "69.0       306\n",
       "70.0       228\n",
       "71.0       159\n",
       "72.0       125\n",
       "73.0        84\n",
       "74.0        71\n",
       "75.0        67\n",
       "76.0        51\n",
       "77.0        26\n",
       "78.0        36\n",
       "79.0        18\n",
       "80.0        18\n",
       "81.0        14\n",
       "82.0         9\n",
       "83.0         4\n",
       "84.0         3\n",
       "85.0         8\n",
       "86.0         1\n",
       "87.0         2\n",
       "88.0         1\n",
       "89.0         1\n",
       "90.0         1\n",
       "98.0         1\n",
       "Name: NU_IDADE, Length: 82, dtype: int64"
      ]
     },
     "execution_count": 25,
     "metadata": {},
     "output_type": "execute_result"
    }
   ],
   "source": [
    "# EXIBIR QUANTOS PARTICIPANTES POR IDADE\n",
    "participantes_por_idade.value_counts().sort_index() #crescente"
   ]
  },
  {
   "cell_type": "code",
   "execution_count": 30,
   "metadata": {},
   "outputs": [
    {
     "data": {
      "text/plain": [
       "<matplotlib.axes._subplots.AxesSubplot at 0x1ac09476f28>"
      ]
     },
     "execution_count": 30,
     "metadata": {},
     "output_type": "execute_result"
    },
    {
     "data": {
      "image/png": "[encoded data removed]",
      "text/plain": [
       "<Figure size 432x288 with 1 Axes>"
      ]
     },
     "metadata": {
      "needs_background": "light"
     },
     "output_type": "display_data"
    }
   ],
   "source": [
    "# GERAR HISTOGRAMA COM PARTICIPANTES POR IDADE\n",
    "import matplotlib.pyplot as plt\n",
    "participantes_por_idade.hist(bins=15)"
   ]
  },
  {
   "cell_type": "code",
   "execution_count": 6,
   "metadata": {},
   "outputs": [
    {
     "data": {
      "text/plain": [
       "SP    934174\n",
       "MG    587471\n",
       "BA    401328\n",
       "RJ    382078\n",
       "CE    329406\n",
       "PE    304302\n",
       "PA    283861\n",
       "RS    243555\n",
       "PR    236533\n",
       "MA    218462\n",
       "GO    191029\n",
       "PB    152049\n",
       "RN    124039\n",
       "SC    123933\n",
       "AM    123755\n",
       "PI    118350\n",
       "ES    112173\n",
       "DF    104531\n",
       "MT     96762\n",
       "AL     89670\n",
       "SE     74633\n",
       "MS     72319\n",
       "RO     62266\n",
       "TO     55145\n",
       "AP     40109\n",
       "AC     37785\n",
       "RR     14029\n",
       "Name: SG_UF_RESIDENCIA, dtype: int64"
      ]
     },
     "execution_count": 6,
     "metadata": {},
     "output_type": "execute_result"
    }
   ],
   "source": [
    "# 1. CRIAR DATAFRAME COM PARTICIPANTES POR ESTADO\n",
    "# 2. EXIBIR QUANTOS PARTICIPANTES POR ESTADO\n",
    "\n",
    "participantes_por_estado = enem2018['SG_UF_RESIDENCIA']\n",
    "participantes_por_estado.value_counts()"
   ]
  },
  {
   "cell_type": "code",
   "execution_count": 7,
   "metadata": {},
   "outputs": [
    {
     "ename": "KeyboardInterrupt",
     "evalue": "",
     "output_type": "error",
     "traceback": [
      "\u001b[1;31m---------------------------------------------------------------------------\u001b[0m",
      "\u001b[1;31mKeyboardInterrupt\u001b[0m                         Traceback (most recent call last)",
      "\u001b[1;32m<ipython-input-7-fe8cd9429fce>\u001b[0m in \u001b[0;36m<module>\u001b[1;34m\u001b[0m\n\u001b[0;32m      1\u001b[0m \u001b[1;31m# GERAR HISTOGRAMA COM PARTICIPANTES POR IDADE\u001b[0m\u001b[1;33m\u001b[0m\u001b[1;33m\u001b[0m\u001b[1;33m\u001b[0m\u001b[0m\n\u001b[0;32m      2\u001b[0m \u001b[1;32mimport\u001b[0m \u001b[0mmatplotlib\u001b[0m\u001b[1;33m.\u001b[0m\u001b[0mpyplot\u001b[0m \u001b[1;32mas\u001b[0m \u001b[0mplt\u001b[0m\u001b[1;33m\u001b[0m\u001b[1;33m\u001b[0m\u001b[0m\n\u001b[1;32m----> 3\u001b[1;33m \u001b[0mparticipantes_por_estado\u001b[0m\u001b[1;33m.\u001b[0m\u001b[0mhist\u001b[0m\u001b[1;33m(\u001b[0m\u001b[0mbins\u001b[0m\u001b[1;33m=\u001b[0m\u001b[1;36m15\u001b[0m\u001b[1;33m)\u001b[0m\u001b[1;33m\u001b[0m\u001b[1;33m\u001b[0m\u001b[0m\n\u001b[0m",
      "\u001b[1;32m~\\Anaconda3\\lib\\site-packages\\pandas\\plotting\\_core.py\u001b[0m in \u001b[0;36mhist_series\u001b[1;34m(self, by, ax, grid, xlabelsize, xrot, ylabelsize, yrot, figsize, bins, **kwds)\u001b[0m\n\u001b[0;32m   2475\u001b[0m         \u001b[0mvalues\u001b[0m \u001b[1;33m=\u001b[0m \u001b[0mself\u001b[0m\u001b[1;33m.\u001b[0m\u001b[0mdropna\u001b[0m\u001b[1;33m(\u001b[0m\u001b[1;33m)\u001b[0m\u001b[1;33m.\u001b[0m\u001b[0mvalues\u001b[0m\u001b[1;33m\u001b[0m\u001b[1;33m\u001b[0m\u001b[0m\n\u001b[0;32m   2476\u001b[0m \u001b[1;33m\u001b[0m\u001b[0m\n\u001b[1;32m-> 2477\u001b[1;33m         \u001b[0max\u001b[0m\u001b[1;33m.\u001b[0m\u001b[0mhist\u001b[0m\u001b[1;33m(\u001b[0m\u001b[0mvalues\u001b[0m\u001b[1;33m,\u001b[0m \u001b[0mbins\u001b[0m\u001b[1;33m=\u001b[0m\u001b[0mbins\u001b[0m\u001b[1;33m,\u001b[0m \u001b[1;33m**\u001b[0m\u001b[0mkwds\u001b[0m\u001b[1;33m)\u001b[0m\u001b[1;33m\u001b[0m\u001b[1;33m\u001b[0m\u001b[0m\n\u001b[0m\u001b[0;32m   2478\u001b[0m         \u001b[0max\u001b[0m\u001b[1;33m.\u001b[0m\u001b[0mgrid\u001b[0m\u001b[1;33m(\u001b[0m\u001b[0mgrid\u001b[0m\u001b[1;33m)\u001b[0m\u001b[1;33m\u001b[0m\u001b[1;33m\u001b[0m\u001b[0m\n\u001b[0;32m   2479\u001b[0m         \u001b[0maxes\u001b[0m \u001b[1;33m=\u001b[0m \u001b[0mnp\u001b[0m\u001b[1;33m.\u001b[0m\u001b[0marray\u001b[0m\u001b[1;33m(\u001b[0m\u001b[1;33m[\u001b[0m\u001b[0max\u001b[0m\u001b[1;33m]\u001b[0m\u001b[1;33m)\u001b[0m\u001b[1;33m\u001b[0m\u001b[1;33m\u001b[0m\u001b[0m\n",
      "\u001b[1;32m~\\Anaconda3\\lib\\site-packages\\matplotlib\\__init__.py\u001b[0m in \u001b[0;36minner\u001b[1;34m(ax, data, *args, **kwargs)\u001b[0m\n\u001b[0;32m   1808\u001b[0m                         \u001b[1;34m\"the Matplotlib list!)\"\u001b[0m \u001b[1;33m%\u001b[0m \u001b[1;33m(\u001b[0m\u001b[0mlabel_namer\u001b[0m\u001b[1;33m,\u001b[0m \u001b[0mfunc\u001b[0m\u001b[1;33m.\u001b[0m\u001b[0m__name__\u001b[0m\u001b[1;33m)\u001b[0m\u001b[1;33m,\u001b[0m\u001b[1;33m\u001b[0m\u001b[1;33m\u001b[0m\u001b[0m\n\u001b[0;32m   1809\u001b[0m                         RuntimeWarning, stacklevel=2)\n\u001b[1;32m-> 1810\u001b[1;33m             \u001b[1;32mreturn\u001b[0m \u001b[0mfunc\u001b[0m\u001b[1;33m(\u001b[0m\u001b[0max\u001b[0m\u001b[1;33m,\u001b[0m \u001b[1;33m*\u001b[0m\u001b[0margs\u001b[0m\u001b[1;33m,\u001b[0m \u001b[1;33m**\u001b[0m\u001b[0mkwargs\u001b[0m\u001b[1;33m)\u001b[0m\u001b[1;33m\u001b[0m\u001b[1;33m\u001b[0m\u001b[0m\n\u001b[0m\u001b[0;32m   1811\u001b[0m \u001b[1;33m\u001b[0m\u001b[0m\n\u001b[0;32m   1812\u001b[0m         inner.__doc__ = _add_data_doc(inner.__doc__,\n",
      "\u001b[1;32m~\\Anaconda3\\lib\\site-packages\\matplotlib\\axes\\_axes.py\u001b[0m in \u001b[0;36mhist\u001b[1;34m(self, x, bins, range, density, weights, cumulative, bottom, histtype, align, orientation, rwidth, log, color, label, stacked, normed, **kwargs)\u001b[0m\n\u001b[0;32m   6589\u001b[0m             \u001b[1;31m# this will automatically overwrite bins,\u001b[0m\u001b[1;33m\u001b[0m\u001b[1;33m\u001b[0m\u001b[1;33m\u001b[0m\u001b[0m\n\u001b[0;32m   6590\u001b[0m             \u001b[1;31m# so that each histogram uses the same bins\u001b[0m\u001b[1;33m\u001b[0m\u001b[1;33m\u001b[0m\u001b[1;33m\u001b[0m\u001b[0m\n\u001b[1;32m-> 6591\u001b[1;33m             \u001b[0mm\u001b[0m\u001b[1;33m,\u001b[0m \u001b[0mbins\u001b[0m \u001b[1;33m=\u001b[0m \u001b[0mnp\u001b[0m\u001b[1;33m.\u001b[0m\u001b[0mhistogram\u001b[0m\u001b[1;33m(\u001b[0m\u001b[0mx\u001b[0m\u001b[1;33m[\u001b[0m\u001b[0mi\u001b[0m\u001b[1;33m]\u001b[0m\u001b[1;33m,\u001b[0m \u001b[0mbins\u001b[0m\u001b[1;33m,\u001b[0m \u001b[0mweights\u001b[0m\u001b[1;33m=\u001b[0m\u001b[0mw\u001b[0m\u001b[1;33m[\u001b[0m\u001b[0mi\u001b[0m\u001b[1;33m]\u001b[0m\u001b[1;33m,\u001b[0m \u001b[1;33m**\u001b[0m\u001b[0mhist_kwargs\u001b[0m\u001b[1;33m)\u001b[0m\u001b[1;33m\u001b[0m\u001b[1;33m\u001b[0m\u001b[0m\n\u001b[0m\u001b[0;32m   6592\u001b[0m             \u001b[0mm\u001b[0m \u001b[1;33m=\u001b[0m \u001b[0mm\u001b[0m\u001b[1;33m.\u001b[0m\u001b[0mastype\u001b[0m\u001b[1;33m(\u001b[0m\u001b[0mfloat\u001b[0m\u001b[1;33m)\u001b[0m  \u001b[1;31m# causes problems later if it's an int\u001b[0m\u001b[1;33m\u001b[0m\u001b[1;33m\u001b[0m\u001b[0m\n\u001b[0;32m   6593\u001b[0m             \u001b[1;32mif\u001b[0m \u001b[0mmlast\u001b[0m \u001b[1;32mis\u001b[0m \u001b[1;32mNone\u001b[0m\u001b[1;33m:\u001b[0m\u001b[1;33m\u001b[0m\u001b[1;33m\u001b[0m\u001b[0m\n",
      "\u001b[1;32m~\\Anaconda3\\lib\\site-packages\\numpy\\lib\\histograms.py\u001b[0m in \u001b[0;36mhistogram\u001b[1;34m(a, bins, range, normed, weights, density)\u001b[0m\n\u001b[0;32m    863\u001b[0m         \u001b[1;32mif\u001b[0m \u001b[0mweights\u001b[0m \u001b[1;32mis\u001b[0m \u001b[1;32mNone\u001b[0m\u001b[1;33m:\u001b[0m\u001b[1;33m\u001b[0m\u001b[1;33m\u001b[0m\u001b[0m\n\u001b[0;32m    864\u001b[0m             \u001b[1;32mfor\u001b[0m \u001b[0mi\u001b[0m \u001b[1;32min\u001b[0m \u001b[0m_range\u001b[0m\u001b[1;33m(\u001b[0m\u001b[1;36m0\u001b[0m\u001b[1;33m,\u001b[0m \u001b[0mlen\u001b[0m\u001b[1;33m(\u001b[0m\u001b[0ma\u001b[0m\u001b[1;33m)\u001b[0m\u001b[1;33m,\u001b[0m \u001b[0mBLOCK\u001b[0m\u001b[1;33m)\u001b[0m\u001b[1;33m:\u001b[0m\u001b[1;33m\u001b[0m\u001b[1;33m\u001b[0m\u001b[0m\n\u001b[1;32m--> 865\u001b[1;33m                 \u001b[0msa\u001b[0m \u001b[1;33m=\u001b[0m \u001b[0mnp\u001b[0m\u001b[1;33m.\u001b[0m\u001b[0msort\u001b[0m\u001b[1;33m(\u001b[0m\u001b[0ma\u001b[0m\u001b[1;33m[\u001b[0m\u001b[0mi\u001b[0m\u001b[1;33m:\u001b[0m\u001b[0mi\u001b[0m\u001b[1;33m+\u001b[0m\u001b[0mBLOCK\u001b[0m\u001b[1;33m]\u001b[0m\u001b[1;33m)\u001b[0m\u001b[1;33m\u001b[0m\u001b[1;33m\u001b[0m\u001b[0m\n\u001b[0m\u001b[0;32m    866\u001b[0m                 \u001b[0mcum_n\u001b[0m \u001b[1;33m+=\u001b[0m \u001b[0m_search_sorted_inclusive\u001b[0m\u001b[1;33m(\u001b[0m\u001b[0msa\u001b[0m\u001b[1;33m,\u001b[0m \u001b[0mbin_edges\u001b[0m\u001b[1;33m)\u001b[0m\u001b[1;33m\u001b[0m\u001b[1;33m\u001b[0m\u001b[0m\n\u001b[0;32m    867\u001b[0m         \u001b[1;32melse\u001b[0m\u001b[1;33m:\u001b[0m\u001b[1;33m\u001b[0m\u001b[1;33m\u001b[0m\u001b[0m\n",
      "\u001b[1;32m~\\Anaconda3\\lib\\site-packages\\numpy\\core\\fromnumeric.py\u001b[0m in \u001b[0;36msort\u001b[1;34m(a, axis, kind, order)\u001b[0m\n\u001b[0;32m    931\u001b[0m         \u001b[0maxis\u001b[0m \u001b[1;33m=\u001b[0m \u001b[1;33m-\u001b[0m\u001b[1;36m1\u001b[0m\u001b[1;33m\u001b[0m\u001b[1;33m\u001b[0m\u001b[0m\n\u001b[0;32m    932\u001b[0m     \u001b[1;32melse\u001b[0m\u001b[1;33m:\u001b[0m\u001b[1;33m\u001b[0m\u001b[1;33m\u001b[0m\u001b[0m\n\u001b[1;32m--> 933\u001b[1;33m         \u001b[0ma\u001b[0m \u001b[1;33m=\u001b[0m \u001b[0masanyarray\u001b[0m\u001b[1;33m(\u001b[0m\u001b[0ma\u001b[0m\u001b[1;33m)\u001b[0m\u001b[1;33m.\u001b[0m\u001b[0mcopy\u001b[0m\u001b[1;33m(\u001b[0m\u001b[0morder\u001b[0m\u001b[1;33m=\u001b[0m\u001b[1;34m\"K\"\u001b[0m\u001b[1;33m)\u001b[0m\u001b[1;33m\u001b[0m\u001b[1;33m\u001b[0m\u001b[0m\n\u001b[0m\u001b[0;32m    934\u001b[0m     \u001b[0ma\u001b[0m\u001b[1;33m.\u001b[0m\u001b[0msort\u001b[0m\u001b[1;33m(\u001b[0m\u001b[0maxis\u001b[0m\u001b[1;33m=\u001b[0m\u001b[0maxis\u001b[0m\u001b[1;33m,\u001b[0m \u001b[0mkind\u001b[0m\u001b[1;33m=\u001b[0m\u001b[0mkind\u001b[0m\u001b[1;33m,\u001b[0m \u001b[0morder\u001b[0m\u001b[1;33m=\u001b[0m\u001b[0morder\u001b[0m\u001b[1;33m)\u001b[0m\u001b[1;33m\u001b[0m\u001b[1;33m\u001b[0m\u001b[0m\n\u001b[0;32m    935\u001b[0m     \u001b[1;32mreturn\u001b[0m \u001b[0ma\u001b[0m\u001b[1;33m\u001b[0m\u001b[1;33m\u001b[0m\u001b[0m\n",
      "\u001b[1;31mKeyboardInterrupt\u001b[0m: "
     ]
    }
   ],
   "source": [
    "# GERAR HISTOGRAMA COM PARTICIPANTES POR IDADE\n",
    "import matplotlib.pyplot as plt\n",
    "participantes_por_estado.hist(bins=15)"
   ]
  },
  {
   "cell_type": "markdown",
   "metadata": {},
   "source": [
    "## # Extraindo informações dos dados com porcentagem \n",
    "Percentual de gestantes com o quantitativo geral, e apenas com participantes do sexo feminino"
   ]
  },
  {
   "cell_type": "code",
   "execution_count": 18,
   "metadata": {},
   "outputs": [
    {
     "data": {
      "text/plain": [
       "0    5511967\n",
       "1       1780\n",
       "Name: IN_GESTANTE, dtype: int64"
      ]
     },
     "execution_count": 18,
     "metadata": {},
     "output_type": "execute_result"
    }
   ],
   "source": [
    "# EXIBIR NÚMERO DE PARTICIPANTES GESTANTES (0 = Não gestante, 1 = Gestante)\n",
    "participantes_gestantes = enem2018['IN_GESTANTE']\n",
    "participantes_gestantes.value_counts()"
   ]
  },
  {
   "cell_type": "code",
   "execution_count": 21,
   "metadata": {},
   "outputs": [
    {
     "data": {
      "text/plain": [
       "0    5511967\n",
       "1       1780\n",
       "Name: IN_GESTANTE, dtype: int64"
      ]
     },
     "execution_count": 21,
     "metadata": {},
     "output_type": "execute_result"
    }
   ],
   "source": [
    "# ATRIBUIR RESULTADO\n",
    "distrib_gestantes = participantes_gestantes.value_counts()\n",
    "distrib_gestantes"
   ]
  },
  {
   "cell_type": "code",
   "execution_count": 35,
   "metadata": {},
   "outputs": [
    {
     "data": {
      "text/plain": [
       "[99.967717053394, 0.032282946606001325]"
      ]
     },
     "execution_count": 35,
     "metadata": {},
     "output_type": "execute_result"
    }
   ],
   "source": [
    "# CALCULAR PORCENTAGEM PARTICIPANTES GESTANTES\n",
    "porcent_gestantes_geral = [100*x/distrib_gestantes.sum() for x in distrib_gestantes]\n",
    "porcent_gestantes_geral"
   ]
  },
  {
   "cell_type": "code",
   "execution_count": 24,
   "metadata": {},
   "outputs": [
    {
     "data": {
      "text/plain": [
       "F    3257703\n",
       "M    2256044\n",
       "Name: TP_SEXO, dtype: int64"
      ]
     },
     "execution_count": 24,
     "metadata": {},
     "output_type": "execute_result"
    }
   ],
   "source": [
    "# EXIBIR NÚMERO DE PARTICIPANTES POR SEXO\n",
    "participantes_sexo = enem2018['TP_SEXO']\n",
    "participantes_sexo.value_counts()"
   ]
  },
  {
   "cell_type": "code",
   "execution_count": 26,
   "metadata": {},
   "outputs": [
    {
     "data": {
      "text/plain": [
       "F    3257703\n",
       "M    2256044\n",
       "Name: TP_SEXO, dtype: int64"
      ]
     },
     "execution_count": 26,
     "metadata": {},
     "output_type": "execute_result"
    }
   ],
   "source": [
    "# ATRIBUIR RESULTADO\n",
    "distrib_sexo = participantes_sexo.value_counts()\n",
    "distrib_sexo"
   ]
  },
  {
   "cell_type": "code",
   "execution_count": 31,
   "metadata": {},
   "outputs": [
    {
     "data": {
      "text/plain": [
       "[59.08328764450019, 40.91671235549981]"
      ]
     },
     "execution_count": 31,
     "metadata": {},
     "output_type": "execute_result"
    }
   ],
   "source": [
    "# CALCULAR PORCENTAGEM PARTICIPANTES POR SEXO\n",
    "porcent_sexo = [100*x/distrib_sexo.sum() for x in distrib_sexo]\n",
    "porcent_sexo"
   ]
  },
  {
   "cell_type": "code",
   "execution_count": 38,
   "metadata": {},
   "outputs": [
    {
     "data": {
      "text/plain": [
       "3257703"
      ]
     },
     "execution_count": 38,
     "metadata": {},
     "output_type": "execute_result"
    }
   ],
   "source": [
    "# PEGANDO O VALOR DE PARTICIPANTES APENAS DO SEXO FEMININO\n",
    "participantes_sexo_fem = distrib_sexo[0]\n",
    "participantes_sexo_fem"
   ]
  },
  {
   "cell_type": "code",
   "execution_count": 36,
   "metadata": {},
   "outputs": [
    {
     "data": {
      "text/plain": [
       "1780"
      ]
     },
     "execution_count": 36,
     "metadata": {},
     "output_type": "execute_result"
    }
   ],
   "source": [
    "# PEGANDO O VALOR DE PARTICIPANTES GESTANTES GERAL\n",
    "participantes_gestantes_fem = distrib_gestantes[1]\n",
    "participantes_gestantes_fem"
   ]
  },
  {
   "cell_type": "code",
   "execution_count": 40,
   "metadata": {},
   "outputs": [
    {
     "data": {
      "text/plain": [
       "0.054639726211996614"
      ]
     },
     "execution_count": 40,
     "metadata": {},
     "output_type": "execute_result"
    }
   ],
   "source": [
    "# FAZENDO A PORCENTAGEM PARTICIPANTES GESTANTES POR SEXO FEMININO\n",
    "porcent_gestantes_fem = 100*participantes_gestantes_fem/participantes_sexo_fem\n",
    "porcent_gestantes_fem"
   ]
  },
  {
   "cell_type": "markdown",
   "metadata": {},
   "source": [
    "## # Extraindo informações com duas colunas (GROUPBY)\n",
    "Usando as colunas Sexo (TP_SEXO) e Nota da Redação (NU_NOTA_REDACAO)\n",
    "\n",
    "Video: https://www.youtube.com/watch?v=Gn6Fm3iDbd8"
   ]
  },
  {
   "cell_type": "code",
   "execution_count": 69,
   "metadata": {},
   "outputs": [],
   "source": [
    "colunas_sexo_redacao = ['TP_SEXO','NU_NOTA_REDACAO']"
   ]
  },
  {
   "cell_type": "code",
   "execution_count": 70,
   "metadata": {},
   "outputs": [
    {
     "data": {
      "text/html": [
       "<div>\n",
       "<style scoped>\n",
       "    .dataframe tbody tr th:only-of-type {\n",
       "        vertical-align: middle;\n",
       "    }\n",
       "\n",
       "    .dataframe tbody tr th {\n",
       "        vertical-align: top;\n",
       "    }\n",
       "\n",
       "    .dataframe thead th {\n",
       "        text-align: right;\n",
       "    }\n",
       "</style>\n",
       "<table border=\"1\" class=\"dataframe\">\n",
       "  <thead>\n",
       "    <tr style=\"text-align: right;\">\n",
       "      <th></th>\n",
       "      <th>TP_SEXO</th>\n",
       "      <th>NU_NOTA_REDACAO</th>\n",
       "    </tr>\n",
       "  </thead>\n",
       "  <tbody>\n",
       "    <tr>\n",
       "      <th>0</th>\n",
       "      <td>M</td>\n",
       "      <td>NaN</td>\n",
       "    </tr>\n",
       "    <tr>\n",
       "      <th>1</th>\n",
       "      <td>F</td>\n",
       "      <td>280.0</td>\n",
       "    </tr>\n",
       "    <tr>\n",
       "      <th>2</th>\n",
       "      <td>F</td>\n",
       "      <td>NaN</td>\n",
       "    </tr>\n",
       "    <tr>\n",
       "      <th>3</th>\n",
       "      <td>F</td>\n",
       "      <td>NaN</td>\n",
       "    </tr>\n",
       "    <tr>\n",
       "      <th>4</th>\n",
       "      <td>M</td>\n",
       "      <td>360.0</td>\n",
       "    </tr>\n",
       "    <tr>\n",
       "      <th>5</th>\n",
       "      <td>F</td>\n",
       "      <td>580.0</td>\n",
       "    </tr>\n",
       "    <tr>\n",
       "      <th>6</th>\n",
       "      <td>F</td>\n",
       "      <td>NaN</td>\n",
       "    </tr>\n",
       "    <tr>\n",
       "      <th>7</th>\n",
       "      <td>M</td>\n",
       "      <td>680.0</td>\n",
       "    </tr>\n",
       "    <tr>\n",
       "      <th>8</th>\n",
       "      <td>M</td>\n",
       "      <td>340.0</td>\n",
       "    </tr>\n",
       "    <tr>\n",
       "      <th>9</th>\n",
       "      <td>F</td>\n",
       "      <td>740.0</td>\n",
       "    </tr>\n",
       "    <tr>\n",
       "      <th>10</th>\n",
       "      <td>F</td>\n",
       "      <td>NaN</td>\n",
       "    </tr>\n",
       "    <tr>\n",
       "      <th>11</th>\n",
       "      <td>F</td>\n",
       "      <td>640.0</td>\n",
       "    </tr>\n",
       "    <tr>\n",
       "      <th>12</th>\n",
       "      <td>F</td>\n",
       "      <td>640.0</td>\n",
       "    </tr>\n",
       "    <tr>\n",
       "      <th>13</th>\n",
       "      <td>M</td>\n",
       "      <td>840.0</td>\n",
       "    </tr>\n",
       "    <tr>\n",
       "      <th>14</th>\n",
       "      <td>M</td>\n",
       "      <td>NaN</td>\n",
       "    </tr>\n",
       "    <tr>\n",
       "      <th>15</th>\n",
       "      <td>F</td>\n",
       "      <td>NaN</td>\n",
       "    </tr>\n",
       "    <tr>\n",
       "      <th>16</th>\n",
       "      <td>M</td>\n",
       "      <td>580.0</td>\n",
       "    </tr>\n",
       "    <tr>\n",
       "      <th>17</th>\n",
       "      <td>F</td>\n",
       "      <td>580.0</td>\n",
       "    </tr>\n",
       "    <tr>\n",
       "      <th>18</th>\n",
       "      <td>M</td>\n",
       "      <td>360.0</td>\n",
       "    </tr>\n",
       "    <tr>\n",
       "      <th>19</th>\n",
       "      <td>F</td>\n",
       "      <td>380.0</td>\n",
       "    </tr>\n",
       "    <tr>\n",
       "      <th>20</th>\n",
       "      <td>F</td>\n",
       "      <td>660.0</td>\n",
       "    </tr>\n",
       "    <tr>\n",
       "      <th>21</th>\n",
       "      <td>M</td>\n",
       "      <td>NaN</td>\n",
       "    </tr>\n",
       "    <tr>\n",
       "      <th>22</th>\n",
       "      <td>M</td>\n",
       "      <td>560.0</td>\n",
       "    </tr>\n",
       "    <tr>\n",
       "      <th>23</th>\n",
       "      <td>F</td>\n",
       "      <td>NaN</td>\n",
       "    </tr>\n",
       "    <tr>\n",
       "      <th>24</th>\n",
       "      <td>M</td>\n",
       "      <td>340.0</td>\n",
       "    </tr>\n",
       "    <tr>\n",
       "      <th>25</th>\n",
       "      <td>F</td>\n",
       "      <td>NaN</td>\n",
       "    </tr>\n",
       "    <tr>\n",
       "      <th>26</th>\n",
       "      <td>F</td>\n",
       "      <td>620.0</td>\n",
       "    </tr>\n",
       "    <tr>\n",
       "      <th>27</th>\n",
       "      <td>F</td>\n",
       "      <td>560.0</td>\n",
       "    </tr>\n",
       "    <tr>\n",
       "      <th>28</th>\n",
       "      <td>F</td>\n",
       "      <td>540.0</td>\n",
       "    </tr>\n",
       "    <tr>\n",
       "      <th>29</th>\n",
       "      <td>F</td>\n",
       "      <td>300.0</td>\n",
       "    </tr>\n",
       "    <tr>\n",
       "      <th>...</th>\n",
       "      <td>...</td>\n",
       "      <td>...</td>\n",
       "    </tr>\n",
       "    <tr>\n",
       "      <th>5513717</th>\n",
       "      <td>F</td>\n",
       "      <td>400.0</td>\n",
       "    </tr>\n",
       "    <tr>\n",
       "      <th>5513718</th>\n",
       "      <td>F</td>\n",
       "      <td>400.0</td>\n",
       "    </tr>\n",
       "    <tr>\n",
       "      <th>5513719</th>\n",
       "      <td>M</td>\n",
       "      <td>560.0</td>\n",
       "    </tr>\n",
       "    <tr>\n",
       "      <th>5513720</th>\n",
       "      <td>F</td>\n",
       "      <td>NaN</td>\n",
       "    </tr>\n",
       "    <tr>\n",
       "      <th>5513721</th>\n",
       "      <td>M</td>\n",
       "      <td>340.0</td>\n",
       "    </tr>\n",
       "    <tr>\n",
       "      <th>5513722</th>\n",
       "      <td>F</td>\n",
       "      <td>NaN</td>\n",
       "    </tr>\n",
       "    <tr>\n",
       "      <th>5513723</th>\n",
       "      <td>F</td>\n",
       "      <td>NaN</td>\n",
       "    </tr>\n",
       "    <tr>\n",
       "      <th>5513724</th>\n",
       "      <td>M</td>\n",
       "      <td>0.0</td>\n",
       "    </tr>\n",
       "    <tr>\n",
       "      <th>5513725</th>\n",
       "      <td>F</td>\n",
       "      <td>480.0</td>\n",
       "    </tr>\n",
       "    <tr>\n",
       "      <th>5513726</th>\n",
       "      <td>F</td>\n",
       "      <td>NaN</td>\n",
       "    </tr>\n",
       "    <tr>\n",
       "      <th>5513727</th>\n",
       "      <td>M</td>\n",
       "      <td>NaN</td>\n",
       "    </tr>\n",
       "    <tr>\n",
       "      <th>5513728</th>\n",
       "      <td>M</td>\n",
       "      <td>320.0</td>\n",
       "    </tr>\n",
       "    <tr>\n",
       "      <th>5513729</th>\n",
       "      <td>F</td>\n",
       "      <td>NaN</td>\n",
       "    </tr>\n",
       "    <tr>\n",
       "      <th>5513730</th>\n",
       "      <td>M</td>\n",
       "      <td>240.0</td>\n",
       "    </tr>\n",
       "    <tr>\n",
       "      <th>5513731</th>\n",
       "      <td>M</td>\n",
       "      <td>NaN</td>\n",
       "    </tr>\n",
       "    <tr>\n",
       "      <th>5513732</th>\n",
       "      <td>M</td>\n",
       "      <td>NaN</td>\n",
       "    </tr>\n",
       "    <tr>\n",
       "      <th>5513733</th>\n",
       "      <td>F</td>\n",
       "      <td>NaN</td>\n",
       "    </tr>\n",
       "    <tr>\n",
       "      <th>5513734</th>\n",
       "      <td>F</td>\n",
       "      <td>NaN</td>\n",
       "    </tr>\n",
       "    <tr>\n",
       "      <th>5513735</th>\n",
       "      <td>F</td>\n",
       "      <td>340.0</td>\n",
       "    </tr>\n",
       "    <tr>\n",
       "      <th>5513736</th>\n",
       "      <td>M</td>\n",
       "      <td>320.0</td>\n",
       "    </tr>\n",
       "    <tr>\n",
       "      <th>5513737</th>\n",
       "      <td>M</td>\n",
       "      <td>NaN</td>\n",
       "    </tr>\n",
       "    <tr>\n",
       "      <th>5513738</th>\n",
       "      <td>M</td>\n",
       "      <td>NaN</td>\n",
       "    </tr>\n",
       "    <tr>\n",
       "      <th>5513739</th>\n",
       "      <td>M</td>\n",
       "      <td>NaN</td>\n",
       "    </tr>\n",
       "    <tr>\n",
       "      <th>5513740</th>\n",
       "      <td>M</td>\n",
       "      <td>NaN</td>\n",
       "    </tr>\n",
       "    <tr>\n",
       "      <th>5513741</th>\n",
       "      <td>F</td>\n",
       "      <td>460.0</td>\n",
       "    </tr>\n",
       "    <tr>\n",
       "      <th>5513742</th>\n",
       "      <td>F</td>\n",
       "      <td>NaN</td>\n",
       "    </tr>\n",
       "    <tr>\n",
       "      <th>5513743</th>\n",
       "      <td>F</td>\n",
       "      <td>320.0</td>\n",
       "    </tr>\n",
       "    <tr>\n",
       "      <th>5513744</th>\n",
       "      <td>F</td>\n",
       "      <td>NaN</td>\n",
       "    </tr>\n",
       "    <tr>\n",
       "      <th>5513745</th>\n",
       "      <td>F</td>\n",
       "      <td>340.0</td>\n",
       "    </tr>\n",
       "    <tr>\n",
       "      <th>5513746</th>\n",
       "      <td>M</td>\n",
       "      <td>520.0</td>\n",
       "    </tr>\n",
       "  </tbody>\n",
       "</table>\n",
       "<p>5513747 rows × 2 columns</p>\n",
       "</div>"
      ],
      "text/plain": [
       "        TP_SEXO  NU_NOTA_REDACAO\n",
       "0             M              NaN\n",
       "1             F            280.0\n",
       "2             F              NaN\n",
       "3             F              NaN\n",
       "4             M            360.0\n",
       "5             F            580.0\n",
       "6             F              NaN\n",
       "7             M            680.0\n",
       "8             M            340.0\n",
       "9             F            740.0\n",
       "10            F              NaN\n",
       "11            F            640.0\n",
       "12            F            640.0\n",
       "13            M            840.0\n",
       "14            M              NaN\n",
       "15            F              NaN\n",
       "16            M            580.0\n",
       "17            F            580.0\n",
       "18            M            360.0\n",
       "19            F            380.0\n",
       "20            F            660.0\n",
       "21            M              NaN\n",
       "22            M            560.0\n",
       "23            F              NaN\n",
       "24            M            340.0\n",
       "25            F              NaN\n",
       "26            F            620.0\n",
       "27            F            560.0\n",
       "28            F            540.0\n",
       "29            F            300.0\n",
       "...         ...              ...\n",
       "5513717       F            400.0\n",
       "5513718       F            400.0\n",
       "5513719       M            560.0\n",
       "5513720       F              NaN\n",
       "5513721       M            340.0\n",
       "5513722       F              NaN\n",
       "5513723       F              NaN\n",
       "5513724       M              0.0\n",
       "5513725       F            480.0\n",
       "5513726       F              NaN\n",
       "5513727       M              NaN\n",
       "5513728       M            320.0\n",
       "5513729       F              NaN\n",
       "5513730       M            240.0\n",
       "5513731       M              NaN\n",
       "5513732       M              NaN\n",
       "5513733       F              NaN\n",
       "5513734       F              NaN\n",
       "5513735       F            340.0\n",
       "5513736       M            320.0\n",
       "5513737       M              NaN\n",
       "5513738       M              NaN\n",
       "5513739       M              NaN\n",
       "5513740       M              NaN\n",
       "5513741       F            460.0\n",
       "5513742       F              NaN\n",
       "5513743       F            320.0\n",
       "5513744       F              NaN\n",
       "5513745       F            340.0\n",
       "5513746       M            520.0\n",
       "\n",
       "[5513747 rows x 2 columns]"
      ]
     },
     "execution_count": 70,
     "metadata": {},
     "output_type": "execute_result"
    }
   ],
   "source": [
    "sexo_redacao = enem2018.filter(items=colunas_sexo_redacao)\n",
    "sexo_redacao"
   ]
  },
  {
   "cell_type": "code",
   "execution_count": null,
   "metadata": {},
   "outputs": [],
   "source": []
  },
  {
   "cell_type": "markdown",
   "metadata": {},
   "source": []
  },
  {
   "cell_type": "markdown",
   "metadata": {},
   "source": [
    "## # Extraindo informações com dados socioeconômicos \n",
    "Usando as colunas Nº de Inscrição (NU_INSCRICAO), Nota de Matemática (NU_NOTA_MT).\n",
    "Nota da Redação (NU_NOTA_REDACAO), e os Questionários sobre Pai e Mãe (Q001 e Q002)\n",
    "\n",
    "Video: https://www.youtube.com/watch?v=ZcvFSEaRcTg"
   ]
  },
  {
   "cell_type": "code",
   "execution_count": null,
   "metadata": {},
   "outputs": [],
   "source": []
  },
  {
   "cell_type": "code",
   "execution_count": null,
   "metadata": {},
   "outputs": [],
   "source": []
  },
  {
   "cell_type": "code",
   "execution_count": null,
   "metadata": {},
   "outputs": [],
   "source": []
  },
  {
   "cell_type": "code",
   "execution_count": null,
   "metadata": {},
   "outputs": [],
   "source": []
  },
  {
   "cell_type": "code",
   "execution_count": null,
   "metadata": {},
   "outputs": [],
   "source": []
  },
  {
   "cell_type": "code",
   "execution_count": null,
   "metadata": {},
   "outputs": [],
   "source": []
  },
  {
   "cell_type": "code",
   "execution_count": null,
   "metadata": {},
   "outputs": [],
   "source": []
  },
  {
   "cell_type": "code",
   "execution_count": null,
   "metadata": {},
   "outputs": [],
   "source": []
  },
  {
   "cell_type": "code",
   "execution_count": null,
   "metadata": {},
   "outputs": [],
   "source": []
  },
  {
   "cell_type": "markdown",
   "metadata": {},
   "source": [
    "## # Extraindo informações com dados socioeconômicos usando WHERE\n",
    "Usando as colunas Nº de Inscrição (NU_INSCRICAO), Nota de Matemática (NU_NOTA_MT).\n",
    "Nota da Redação (NU_NOTA_REDACAO), os Questionários sobre Pai e Mãe (Q001 e Q002)\n",
    "e o Estado de residência (SG_UF_RESIDENCIA)\n",
    "\n",
    "Video: https://www.youtube.com/watch?v=RXbX6giU2vI"
   ]
  },
  {
   "cell_type": "code",
   "execution_count": null,
   "metadata": {},
   "outputs": [],
   "source": []
  },
  {
   "cell_type": "code",
   "execution_count": null,
   "metadata": {},
   "outputs": [],
   "source": []
  },
  {
   "cell_type": "code",
   "execution_count": null,
   "metadata": {},
   "outputs": [],
   "source": []
  },
  {
   "cell_type": "code",
   "execution_count": null,
   "metadata": {},
   "outputs": [],
   "source": []
  },
  {
   "cell_type": "code",
   "execution_count": null,
   "metadata": {},
   "outputs": [],
   "source": []
  },
  {
   "cell_type": "code",
   "execution_count": null,
   "metadata": {},
   "outputs": [],
   "source": []
  },
  {
   "cell_type": "code",
   "execution_count": null,
   "metadata": {},
   "outputs": [],
   "source": []
  },
  {
   "cell_type": "code",
   "execution_count": null,
   "metadata": {},
   "outputs": [],
   "source": []
  }
 ],
 "metadata": {
  "kernelspec": {
   "display_name": "Python 3",
   "language": "python",
   "name": "python3"
  },
  "language_info": {
   "codemirror_mode": {
    "name": "ipython",
    "version": 3
   },
   "file_extension": ".py",
   "mimetype": "text/x-python",
   "name": "python",
   "nbconvert_exporter": "python",
   "pygments_lexer": "ipython3",
   "version": "3.7.3"
  }
 },
 "nbformat": 4,
 "nbformat_minor": 2
}
